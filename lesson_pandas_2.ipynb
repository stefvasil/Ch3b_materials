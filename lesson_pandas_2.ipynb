# read the gapminder data csv file for Europe
gapminder_europe = pd.read_csv('/data/gapminder_gdp_europe.csv', index_col='country')