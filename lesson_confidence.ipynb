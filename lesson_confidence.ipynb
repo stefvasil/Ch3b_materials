{
 "cells": [
  {
   "cell_type": "code",
   "execution_count": 33,
   "metadata": {},
   "outputs": [
    {
     "data": {
      "text/html": [
       "<div>\n",
       "<style scoped>\n",
       "    .dataframe tbody tr th:only-of-type {\n",
       "        vertical-align: middle;\n",
       "    }\n",
       "\n",
       "    .dataframe tbody tr th {\n",
       "        vertical-align: top;\n",
       "    }\n",
       "\n",
       "    .dataframe thead th {\n",
       "        text-align: right;\n",
       "    }\n",
       "</style>\n",
       "<table border=\"1\" class=\"dataframe\">\n",
       "  <thead>\n",
       "    <tr style=\"text-align: right;\">\n",
       "      <th></th>\n",
       "      <th>participantID</th>\n",
       "      <th>trial</th>\n",
       "      <th>RT</th>\n",
       "    </tr>\n",
       "  </thead>\n",
       "  <tbody>\n",
       "    <tr>\n",
       "      <th>6</th>\n",
       "      <td>s2</td>\n",
       "      <td>7</td>\n",
       "      <td>0.411051</td>\n",
       "    </tr>\n",
       "    <tr>\n",
       "      <th>15</th>\n",
       "      <td>s3</td>\n",
       "      <td>6</td>\n",
       "      <td>0.494156</td>\n",
       "    </tr>\n",
       "    <tr>\n",
       "      <th>13</th>\n",
       "      <td>s3</td>\n",
       "      <td>4</td>\n",
       "      <td>0.364524</td>\n",
       "    </tr>\n",
       "    <tr>\n",
       "      <th>11</th>\n",
       "      <td>s3</td>\n",
       "      <td>2</td>\n",
       "      <td>0.396106</td>\n",
       "    </tr>\n",
       "    <tr>\n",
       "      <th>3</th>\n",
       "      <td>s2</td>\n",
       "      <td>4</td>\n",
       "      <td>0.417988</td>\n",
       "    </tr>\n",
       "  </tbody>\n",
       "</table>\n",
       "</div>"
      ],
      "text/plain": [
       "   participantID  trial        RT\n",
       "6             s2      7  0.411051\n",
       "15            s3      6  0.494156\n",
       "13            s3      4  0.364524\n",
       "11            s3      2  0.396106\n",
       "3             s2      4  0.417988"
      ]
     },
     "execution_count": 33,
     "metadata": {},
     "output_type": "execute_result"
    }
   ],
   "source": [
    "# Use glob to read the files in the folder in the current directory whose name starts with \"s\". Concatenate them into a single data frame. Use list comprehension.\n",
    "import pandas as pd\n",
    "import glob\n",
    "\n",
    "# Read the files in the folder in the current directory whose name starts with \"s\"\n",
    "files = glob.glob(\"data/s*.csv\")\n",
    "\n",
    "dfs = [pd.read_csv(file, index_col=None, header=0) for file in files]\n",
    "\n",
    "df = pd.concat(dfs, axis=0, ignore_index=True)\n",
    "\n",
    "type(df)\n",
    "df.sample(5)"
   ]
  },
  {
   "cell_type": "code",
   "execution_count": 35,
   "metadata": {},
   "outputs": [
    {
     "data": {
      "text/plain": [
       "participantID\n",
       "s1    0.389548\n",
       "s2    0.444785\n",
       "s3    0.446009\n",
       "Name: RT, dtype: float64"
      ]
     },
     "execution_count": 35,
     "metadata": {},
     "output_type": "execute_result"
    }
   ],
   "source": [
    "# Calculate the mean RT for each participantID\n",
    "df.groupby('participantID')['RT'].mean()"
   ]
  },
  {
   "cell_type": "code",
   "execution_count": 37,
   "metadata": {},
   "outputs": [
    {
     "data": {
      "text/plain": [
       "0.4267806816333334"
      ]
     },
     "execution_count": 37,
     "metadata": {},
     "output_type": "execute_result"
    }
   ],
   "source": [
    "# Calculate the mean RT across all participantID\n",
    "df['RT'].mean()"
   ]
  },
  {
   "cell_type": "code",
   "execution_count": 38,
   "metadata": {},
   "outputs": [
    {
     "data": {
      "text/html": [
       "<div>\n",
       "<style scoped>\n",
       "    .dataframe tbody tr th:only-of-type {\n",
       "        vertical-align: middle;\n",
       "    }\n",
       "\n",
       "    .dataframe tbody tr th {\n",
       "        vertical-align: top;\n",
       "    }\n",
       "\n",
       "    .dataframe thead th {\n",
       "        text-align: right;\n",
       "    }\n",
       "</style>\n",
       "<table border=\"1\" class=\"dataframe\">\n",
       "  <thead>\n",
       "    <tr style=\"text-align: right;\">\n",
       "      <th></th>\n",
       "      <th>mean</th>\n",
       "      <th>sem</th>\n",
       "      <th>ci</th>\n",
       "    </tr>\n",
       "    <tr>\n",
       "      <th>participantID</th>\n",
       "      <th></th>\n",
       "      <th></th>\n",
       "      <th></th>\n",
       "    </tr>\n",
       "  </thead>\n",
       "  <tbody>\n",
       "    <tr>\n",
       "      <th>s1</th>\n",
       "      <td>0.389548</td>\n",
       "      <td>0.020958</td>\n",
       "      <td>0.041078</td>\n",
       "    </tr>\n",
       "    <tr>\n",
       "      <th>s2</th>\n",
       "      <td>0.444785</td>\n",
       "      <td>0.026231</td>\n",
       "      <td>0.051412</td>\n",
       "    </tr>\n",
       "    <tr>\n",
       "      <th>s3</th>\n",
       "      <td>0.446009</td>\n",
       "      <td>0.035662</td>\n",
       "      <td>0.069898</td>\n",
       "    </tr>\n",
       "  </tbody>\n",
       "</table>\n",
       "</div>"
      ],
      "text/plain": [
       "                   mean       sem        ci\n",
       "participantID                              \n",
       "s1             0.389548  0.020958  0.041078\n",
       "s2             0.444785  0.026231  0.051412\n",
       "s3             0.446009  0.035662  0.069898"
      ]
     },
     "execution_count": 38,
     "metadata": {},
     "output_type": "execute_result"
    }
   ],
   "source": [
    "# Calculate the 95% confidence interval for the mean RT for each participantID\n",
    "\n",
    "# Calculate the mean RT for each participantID\n",
    "means = df.groupby('participantID')['RT'].mean()\n",
    "\n",
    "# Calculate the standard error of the mean RT for each participantID\n",
    "sems = df.groupby('participantID')['RT'].sem()\n",
    "\n",
    "# Calculate the 95% confidence interval for the mean RT for each participantID\n",
    "cis = sems * 1.96\n",
    "\n",
    "# Combine the means, sems, and cis into a single data frame\n",
    "summary = pd.concat([means, sems, cis], axis=1)\n",
    "summary.columns = ['mean', 'sem', 'ci']\n",
    "\n",
    "summary\n"
   ]
  },
  {
   "cell_type": "code",
   "execution_count": 45,
   "metadata": {},
   "outputs": [
    {
     "name": "stdout",
     "output_type": "stream",
     "text": [
      "  participantID  trial        RT\n",
      "0            s2      1  0.433094\n",
      "1            s2      2  0.392526\n",
      "2            s2      3  0.396831\n",
      "3            s2      4  0.417988\n",
      "4            s2      5  0.371810\n",
      "5            s2      6  0.659228\n",
      "6            s2      7  0.411051\n",
      "7            s2      8  0.409580\n",
      "8            s2      9  0.486828\n",
      "9            s2     10  0.468912\n",
      "   participantID  trial        RT\n",
      "30            s2      1  0.433094\n",
      "31            s2      2  0.392526\n",
      "32            s2      3  0.396831\n",
      "33            s2      4  0.417988\n",
      "34            s2      5  0.371810\n",
      "35            s2      6  0.659228\n",
      "36            s2      7  0.411051\n",
      "37            s2      8  0.409580\n",
      "38            s2      9  0.486828\n",
      "39            s2     10  0.468912\n",
      "0.01649516507881437\n",
      "0.011564574529125923\n"
     ]
    }
   ],
   "source": [
    "# Create a new dataframe by expanding the df with a copy of df.\n",
    "df2 = pd.concat([df]*2, ignore_index=True)\n",
    "\n",
    "print(df[0:10])\n",
    "print(df2[30:40])\n",
    "\n",
    "# Calculate the standard error for df\n",
    "print(df['RT'].sem())\n",
    "\n",
    "# Calculate the standard error for df2\n",
    "print(df2['RT'].sem())"
   ]
  },
  {
   "cell_type": "code",
   "execution_count": 46,
   "metadata": {},
   "outputs": [
    {
     "data": {
      "text/html": [
       "<div>\n",
       "<style scoped>\n",
       "    .dataframe tbody tr th:only-of-type {\n",
       "        vertical-align: middle;\n",
       "    }\n",
       "\n",
       "    .dataframe tbody tr th {\n",
       "        vertical-align: top;\n",
       "    }\n",
       "\n",
       "    .dataframe thead th {\n",
       "        text-align: right;\n",
       "    }\n",
       "</style>\n",
       "<table border=\"1\" class=\"dataframe\">\n",
       "  <thead>\n",
       "    <tr style=\"text-align: right;\">\n",
       "      <th></th>\n",
       "      <th>mean</th>\n",
       "      <th>sem</th>\n",
       "      <th>ci</th>\n",
       "    </tr>\n",
       "    <tr>\n",
       "      <th>participantID</th>\n",
       "      <th></th>\n",
       "      <th></th>\n",
       "      <th></th>\n",
       "    </tr>\n",
       "  </thead>\n",
       "  <tbody>\n",
       "    <tr>\n",
       "      <th>s1</th>\n",
       "      <td>0.389548</td>\n",
       "      <td>0.014424</td>\n",
       "      <td>0.028272</td>\n",
       "    </tr>\n",
       "    <tr>\n",
       "      <th>s2</th>\n",
       "      <td>0.444785</td>\n",
       "      <td>0.018053</td>\n",
       "      <td>0.035384</td>\n",
       "    </tr>\n",
       "    <tr>\n",
       "      <th>s3</th>\n",
       "      <td>0.446009</td>\n",
       "      <td>0.024544</td>\n",
       "      <td>0.048107</td>\n",
       "    </tr>\n",
       "  </tbody>\n",
       "</table>\n",
       "</div>"
      ],
      "text/plain": [
       "                   mean       sem        ci\n",
       "participantID                              \n",
       "s1             0.389548  0.014424  0.028272\n",
       "s2             0.444785  0.018053  0.035384\n",
       "s3             0.446009  0.024544  0.048107"
      ]
     },
     "execution_count": 46,
     "metadata": {},
     "output_type": "execute_result"
    }
   ],
   "source": [
    "# Calculate the 95% confidence interval for the mean RT for each participantID in df2\n",
    "means = df2.groupby('participantID')['RT'].mean()\n",
    "sems = df2.groupby('participantID')['RT'].sem()\n",
    "cis = sems * 1.96\n",
    "summary = pd.concat([means, sems, cis], axis=1)\n",
    "summary.columns = ['mean', 'sem', 'ci']\n",
    "summary\n"
   ]
  },
  {
   "cell_type": "code",
   "execution_count": null,
   "metadata": {},
   "outputs": [],
   "source": []
  }
 ],
 "metadata": {
  "kernelspec": {
   "display_name": "base",
   "language": "python",
   "name": "python3"
  },
  "language_info": {
   "codemirror_mode": {
    "name": "ipython",
    "version": 3
   },
   "file_extension": ".py",
   "mimetype": "text/x-python",
   "name": "python",
   "nbconvert_exporter": "python",
   "pygments_lexer": "ipython3",
   "version": "3.11.7"
  }
 },
 "nbformat": 4,
 "nbformat_minor": 2
}
