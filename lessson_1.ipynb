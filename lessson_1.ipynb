{
 "cells": [
  {
   "cell_type": "code",
   "execution_count": 2,
   "metadata": {},
   "outputs": [
    {
     "name": "stdout",
     "output_type": "stream",
     "text": [
      "[0, 1, 2, 3, 4, 5, 6, 7, 8, 9]\n"
     ]
    }
   ],
   "source": [
    "# generate a list of numbers from 0 to 9\n",
    "numbers = list(range(10))\n",
    "print(numbers)\n",
    "\n",
    "\n",
    "\n",
    "\n"
   ]
  },
  {
   "cell_type": "code",
   "execution_count": 6,
   "metadata": {},
   "outputs": [
    {
     "name": "stdout",
     "output_type": "stream",
     "text": [
      "[0.9884396720825204, 0.8211045125210676, 0.46578865990160556, 0.7998093040846964, 0.5290762105757454, 0.3062704530663731, 0.8342051591815074, 0.36732790170755314, 0.06632970960637463, 0.7457071028131187]\n"
     ]
    }
   ],
   "source": [
    "import random\n",
    "# create a list of 10 random numbers from 0 to 1\n",
    "list_1 = [random.random() for _ in range(10)]\n",
    "# print the list\n",
    "print(list_1)"
   ]
  },
  {
   "cell_type": "code",
   "execution_count": 8,
   "metadata": {},
   "outputs": [
    {
     "name": "stdout",
     "output_type": "stream",
     "text": [
      "[0.31762846110859466, 0.7245268376117944, 0.7410716066474936, 0.7471619281616245, 0.7892803851095691, 0.4587060887239176, 0.9360599164882637, 0.4314280128344745, 0.05407029910221761, 0.10306611672856347]\n"
     ]
    }
   ],
   "source": [
    "# create a list of 10 random numbers from 0 to 1\n",
    "list_2 = [random.random() for _ in range(10)]\n",
    "\n",
    "# print the list\n",
    "print(list_2)"
   ]
  },
  {
   "cell_type": "code",
   "execution_count": 9,
   "metadata": {},
   "outputs": [
    {
     "name": "stdout",
     "output_type": "stream",
     "text": [
      "[0.9884396720825204, 0.8211045125210676, 0.46578865990160556, 0.7998093040846964, 0.5290762105757454, 0.3062704530663731, 0.8342051591815074, 0.36732790170755314, 0.06632970960637463, 0.7457071028131187, 0.31762846110859466, 0.7245268376117944, 0.7410716066474936, 0.7471619281616245, 0.7892803851095691, 0.4587060887239176, 0.9360599164882637, 0.4314280128344745, 0.05407029910221761, 0.10306611672856347]\n"
     ]
    }
   ],
   "source": [
    "# combine the two lists and call it list_all\n",
    "list_all = list_1 + list_2\n",
    "# print the list\n",
    "print(list_all)"
   ]
  },
  {
   "cell_type": "code",
   "execution_count": 10,
   "metadata": {},
   "outputs": [
    {
     "name": "stdout",
     "output_type": "stream",
     "text": [
      "20\n"
     ]
    }
   ],
   "source": [
    "# give me the length of the list\n",
    "print(len(list_all))"
   ]
  },
  {
   "cell_type": "code",
   "execution_count": null,
   "metadata": {},
   "outputs": [],
   "source": [
    "\n"
   ]
  },
  {
   "cell_type": "code",
   "execution_count": null,
   "metadata": {},
   "outputs": [],
   "source": []
  }
 ],
 "metadata": {
  "kernelspec": {
   "display_name": "base",
   "language": "python",
   "name": "python3"
  },
  "language_info": {
   "codemirror_mode": {
    "name": "ipython",
    "version": 3
   },
   "file_extension": ".py",
   "mimetype": "text/x-python",
   "name": "python",
   "nbconvert_exporter": "python",
   "pygments_lexer": "ipython3",
   "version": "3.11.7"
  }
 },
 "nbformat": 4,
 "nbformat_minor": 2
}
